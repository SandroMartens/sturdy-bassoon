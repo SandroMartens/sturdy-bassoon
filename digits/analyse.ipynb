{
 "cells": [
  {
   "cell_type": "code",
   "execution_count": 3,
   "metadata": {},
   "outputs": [],
   "source": [
    "import pandas as pd\n",
    "from umap import UMAP\n",
    "from sklearn.naive_bayes import GaussianNB\n",
    "from sklearn.ensemble import RandomForestClassifier\n",
    "random_state=43\n",
    "\n",
    "# sns.set_theme(context=\"paper\", style=\"ticks\")"
   ]
  },
  {
   "cell_type": "markdown",
   "metadata": {},
   "source": [
    "Load data"
   ]
  },
  {
   "cell_type": "code",
   "execution_count": 4,
   "metadata": {},
   "outputs": [],
   "source": [
    "test = pd.read_csv(\"data\\\\test.csv\")\n",
    "train = pd.read_csv(\"data\\\\train.csv\")\n",
    "\n",
    "train_X = train.drop(\"label\", axis=1)\n",
    "train_y = train[\"label\"]"
   ]
  },
  {
   "cell_type": "markdown",
   "metadata": {},
   "source": [
    "Embed data using umap"
   ]
  },
  {
   "cell_type": "code",
   "execution_count": 5,
   "metadata": {},
   "outputs": [],
   "source": [
    "reducer = UMAP(\n",
    "    local_connectivity=1,\n",
    "    n_neighbors=30,\n",
    "    n_components=10\n",
    ")\n",
    "\n",
    "embedding_train = reducer.fit_transform(\n",
    "    X=train_X,\n",
    "    y=train_y\n",
    ")\n",
    "\n",
    "embedding_test = reducer.transform(test)"
   ]
  },
  {
   "cell_type": "markdown",
   "metadata": {},
   "source": [
    "Train Random Forest classifier"
   ]
  },
  {
   "cell_type": "code",
   "execution_count": 6,
   "metadata": {},
   "outputs": [],
   "source": [
    "nb = RandomForestClassifier()\n",
    "\n",
    "pred = nb.fit(\n",
    "    X=embedding_train,\n",
    "    y=train_y\n",
    "    ).predict(embedding_test)\n"
   ]
  },
  {
   "cell_type": "markdown",
   "metadata": {},
   "source": [
    "save predictions"
   ]
  },
  {
   "cell_type": "code",
   "execution_count": 7,
   "metadata": {},
   "outputs": [],
   "source": [
    "# 97% Accuracy\n",
    "\n",
    "submission = pd.DataFrame(columns=[\"ImageId\", \"Label\"], data=zip(test.index+1, pred))\n",
    "submission.to_csv(\"submission.csv\", index=False)"
   ]
  },
  {
   "cell_type": "markdown",
   "metadata": {},
   "source": [
    "# Outlier Detection"
   ]
  },
  {
   "cell_type": "code",
   "execution_count": 8,
   "metadata": {},
   "outputs": [],
   "source": [
    "# Classification\n",
    "from sklearn.ensemble import StackingClassifier\n",
    "from sklearn.neighbors import KNeighborsClassifier\n",
    "from sklearn.gaussian_process import GaussianProcessClassifier\n",
    "from sklearn.ensemble import RandomForestClassifier\n",
    "from sklearn.svm import LinearSVC\n",
    "from sklearn.linear_model import LogisticRegressionCV\n"
   ]
  },
  {
   "cell_type": "code",
   "execution_count": 9,
   "metadata": {},
   "outputs": [],
   "source": [
    "estimators = [\n",
    "    (\"knnc\", KNeighborsClassifier(\n",
    "        weights=\"distance\",\n",
    "        n_neighbors=50,\n",
    "        n_jobs=-1\n",
    "    )),\n",
    "    (\"gpc\", GaussianProcessClassifier(\n",
    "        random_state=random_state,\n",
    "        warm_start=True\n",
    "    )),\n",
    "    (\"rfc\", RandomForestClassifier(\n",
    "        random_state=random_state,\n",
    "        class_weight=\"balanced_subsample\",\n",
    "        n_jobs=-1\n",
    "    )),\n",
    "    (\"SVC\", LinearSVC(\n",
    "        max_iter=100000,\n",
    "        random_state=random_state\n",
    "    ))\n",
    "]\n",
    "\n",
    "final_estimator = LogisticRegressionCV(\n",
    "    max_iter=1000,\n",
    "    # solver=\"liblinear\"\n",
    ")\n"
   ]
  },
  {
   "cell_type": "code",
   "execution_count": 10,
   "metadata": {},
   "outputs": [],
   "source": [
    "reducer = UMAP(\n",
    "    n_neighbors=30,\n",
    "    n_components=5,\n",
    "    min_dist=0,\n",
    "    # metric=\"correlation\",\n",
    "    unique=True,\n",
    "    target_metric=\"l1\",\n",
    "    target_weight=0.5\n",
    ")\n",
    "\n",
    "class_comp = StackingClassifier(\n",
    "    estimators=estimators,\n",
    "    # final_estimator=final_estimator,\n",
    "    n_jobs=-1,\n",
    "    verbose=0,\n",
    ")"
   ]
  },
  {
   "cell_type": "code",
   "execution_count": 11,
   "metadata": {},
   "outputs": [
    {
     "ename": "NameError",
     "evalue": "name 'X_train' is not defined",
     "output_type": "error",
     "traceback": [
      "\u001b[1;31m---------------------------------------------------------------------------\u001b[0m",
      "\u001b[1;31mNameError\u001b[0m                                 Traceback (most recent call last)",
      "\u001b[1;32m~\\AppData\\Local\\Temp/ipykernel_3572/3307584478.py\u001b[0m in \u001b[0;36m<module>\u001b[1;34m\u001b[0m\n\u001b[1;32m----> 1\u001b[1;33m \u001b[0mclass_comp\u001b[0m\u001b[1;33m.\u001b[0m\u001b[0mfit\u001b[0m\u001b[1;33m(\u001b[0m\u001b[0mX_train\u001b[0m\u001b[1;33m)\u001b[0m\u001b[1;33m\u001b[0m\u001b[1;33m\u001b[0m\u001b[0m\n\u001b[0m",
      "\u001b[1;31mNameError\u001b[0m: name 'X_train' is not defined"
     ]
    }
   ],
   "source": [
    "class_comp.fit(X_train)"
   ]
  }
 ],
 "metadata": {
  "interpreter": {
   "hash": "fbff9bfab3ee0df4124016b4e010029cf2ec5864ce5e3c4aa09796cc364af95f"
  },
  "kernelspec": {
   "display_name": "Python 3.9.7 64-bit ('base': conda)",
   "language": "python",
   "name": "python3"
  },
  "language_info": {
   "codemirror_mode": {
    "name": "ipython",
    "version": 3
   },
   "file_extension": ".py",
   "mimetype": "text/x-python",
   "name": "python",
   "nbconvert_exporter": "python",
   "pygments_lexer": "ipython3",
   "version": "3.9.9"
  },
  "orig_nbformat": 4
 },
 "nbformat": 4,
 "nbformat_minor": 2
}
