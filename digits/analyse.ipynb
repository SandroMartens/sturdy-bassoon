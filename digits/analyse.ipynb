{
 "cells": [
  {
   "cell_type": "code",
   "execution_count": 5,
   "metadata": {},
   "outputs": [],
   "source": [
    "import pandas as pd\n",
    "from umap import UMAP\n",
    "# from umap.parametric_umap import ParametricUMAP\n",
    "from sklearn.naive_bayes import GaussianNB\n",
    "from sklearn.ensemble import RandomForestClassifier\n",
    "\n",
    "# sns.set_theme(context=\"paper\", style=\"ticks\")"
   ]
  },
  {
   "cell_type": "code",
   "execution_count": 6,
   "metadata": {},
   "outputs": [],
   "source": [
    "test = pd.read_csv(\"data\\\\test.csv\")\n",
    "train = pd.read_csv(\"data\\\\train.csv\")\n",
    "\n",
    "train_X = train.drop(\"label\", axis=1)\n",
    "train_y = train[\"label\"]"
   ]
  },
  {
   "cell_type": "code",
   "execution_count": 7,
   "metadata": {},
   "outputs": [],
   "source": [
    "reducer = UMAP(\n",
    "    local_connectivity=1,\n",
    "    n_neighbors=30,\n",
    "    n_components=10\n",
    ")\n",
    "\n",
    "embedding_train = reducer.fit_transform(\n",
    "    X=train_X,\n",
    "    y=train_y\n",
    ")\n",
    "\n",
    "embedding_test = reducer.transform(test)"
   ]
  },
  {
   "cell_type": "code",
   "execution_count": 8,
   "metadata": {},
   "outputs": [],
   "source": [
    "nb = RandomForestClassifier()\n",
    "\n",
    "pred = nb.fit(\n",
    "    X=embedding_train,\n",
    "    y=train_y\n",
    "    ).predict(embedding_test)\n"
   ]
  },
  {
   "cell_type": "code",
   "execution_count": 9,
   "metadata": {},
   "outputs": [],
   "source": [
    "submission = pd.DataFrame(columns=[\"ImageId\", \"Label\"], data=zip(test.index+1, pred))\n",
    "submission.to_csv(\"submission.csv\", index=False)"
   ]
  }
 ],
 "metadata": {
  "interpreter": {
   "hash": "fbff9bfab3ee0df4124016b4e010029cf2ec5864ce5e3c4aa09796cc364af95f"
  },
  "kernelspec": {
   "display_name": "Python 3.9.7 64-bit ('base': conda)",
   "language": "python",
   "name": "python3"
  },
  "language_info": {
   "codemirror_mode": {
    "name": "ipython",
    "version": 3
   },
   "file_extension": ".py",
   "mimetype": "text/x-python",
   "name": "python",
   "nbconvert_exporter": "python",
   "pygments_lexer": "ipython3",
   "version": "3.9.7"
  },
  "orig_nbformat": 4
 },
 "nbformat": 4,
 "nbformat_minor": 2
}
