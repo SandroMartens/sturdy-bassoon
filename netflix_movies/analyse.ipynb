{
 "cells": [
  {
   "cell_type": "code",
   "execution_count": 58,
   "metadata": {},
   "outputs": [],
   "source": [
    "import pandas as pd\n",
    "import numpy as np\n",
    "from umap import UMAP\n",
    "import seaborn as sns\n",
    "import matplotlib.pyplot as plt\n",
    "from sklearn.neighbors import NearestNeighbors\n",
    "from sklearn.preprocessing import MultiLabelBinarizer\n",
    "from sklearn.preprocessing import OneHotEncoder\n",
    "from sklearn.random_projection import SparseRandomProjection\n",
    "from sklearn.compose import ColumnTransformer\n",
    "\n",
    "sns.set_theme(context=\"notebook\", style=\"ticks\")\n"
   ]
  },
  {
   "cell_type": "markdown",
   "metadata": {},
   "source": [
    "### Basic idea\n",
    "|   |   |   |\n",
    "|---|---|---|\n",
    "|   |   |   |\n",
    "|   |   |   |"
   ]
  },
  {
   "cell_type": "markdown",
   "metadata": {},
   "source": [
    "Load file"
   ]
  },
  {
   "cell_type": "code",
   "execution_count": 59,
   "metadata": {},
   "outputs": [],
   "source": [
    "netflix_total = pd.read_csv(\"netflix_titles.csv\")\n"
   ]
  },
  {
   "cell_type": "markdown",
   "metadata": {},
   "source": [
    "Remove spaces"
   ]
  },
  {
   "cell_type": "code",
   "execution_count": 60,
   "metadata": {},
   "outputs": [],
   "source": [
    "netflix_total.cast = netflix_total.cast.str.replace(\", \", \",\")\n",
    "netflix_total.director = netflix_total.director.str.replace(\", \", \",\")\n",
    "netflix_total.listed_in = netflix_total.listed_in.str.replace(\", \", \",\")\n",
    "netflix_total.country = netflix_total.country.str.replace(\", \", \",\")\n"
   ]
  },
  {
   "cell_type": "markdown",
   "metadata": {},
   "source": [
    "Split in TV Shows and Movies"
   ]
  },
  {
   "cell_type": "code",
   "execution_count": 61,
   "metadata": {},
   "outputs": [],
   "source": [
    "tv = netflix_total[netflix_total.type == \"TV Show\"]\n",
    "movies = netflix_total[netflix_total.type == \"Movie\"]\n",
    "\n",
    "netflix_total.reset_index(inplace=True)\n",
    "movies.reset_index(inplace=True)\n",
    "tv.reset_index(inplace=True)\n"
   ]
  },
  {
   "cell_type": "code",
   "execution_count": 98,
   "metadata": {},
   "outputs": [],
   "source": [
    "def preprocess_dataset(data):\n",
    "    \"\"\"Main preprocessing steps.\"\"\"\n",
    "    data = binarize_categories(data)\n",
    "    data = idf_vectorize(data)\n",
    "    knn = fit_knn(data)\n",
    "    return data, knn\n",
    "\n",
    "\n",
    "def binarize_categories(data):\n",
    "    \"\"\"Convert categorical values in binary feature vectors.\"\"\"\n",
    "    oh_enc = OneHotEncoder(sparse=False)\n",
    "    data_binarized = oh_enc.fit_transform(\n",
    "        netflix_total[[\"director\", \"cast\", \"listed_in\", \"country\", \"rating\"]])\n",
    "\n",
    "    return data_binarized\n",
    "\n",
    "\n",
    "def idf_vectorize(data):\n",
    "    \"\"\"Normalize each feature according to the inverse document frequency.\"\"\"\n",
    "    df = data.sum(axis=0)\n",
    "    idf = np.log((1+len(data)) / (1+df)) + 1\n",
    "    data_vectorized = data * idf.T\n",
    "    return data_vectorized\n",
    "\n",
    "\n",
    "def fit_knn(data):\n",
    "    knn = NearestNeighbors(\n",
    "        n_neighbors=11,\n",
    "        metric=\"correlation\",\n",
    "        n_jobs=-1\n",
    "    ).fit(data)\n",
    "\n",
    "    return knn\n"
   ]
  },
  {
   "cell_type": "code",
   "execution_count": 99,
   "metadata": {},
   "outputs": [],
   "source": [
    "def recommend_show(data_reduced, data, query, knn):\n",
    "    \"\"\"Compute nearest neighbors and return show/film names from the original dataset.\"\"\"\n",
    "\n",
    "    neighbors = knn.kneighbors(data_reduced[data.title == query])\n",
    "    result = pd.concat([\n",
    "        pd.DataFrame(\n",
    "            np.flip(neighbors[0][-1]),\n",
    "            index=np.flip(neighbors[1][-1]),\n",
    "            columns=[\"Score\"]),\n",
    "        data.iloc[np.flip(neighbors[1][-1])][[\"title\", \"director\", \"cast\", \"country\", \"listed_in\", \"type\"]]],\n",
    "        axis=1\n",
    "    )\n",
    "    return result.iloc[:10]\n"
   ]
  },
  {
   "cell_type": "code",
   "execution_count": 100,
   "metadata": {},
   "outputs": [],
   "source": [
    "data = netflix_total\n",
    "data_reduced, knn = preprocess_dataset(data)\n"
   ]
  },
  {
   "cell_type": "code",
   "execution_count": 101,
   "metadata": {},
   "outputs": [
    {
     "data": {
      "text/html": [
       "<div>\n",
       "<style scoped>\n",
       "    .dataframe tbody tr th:only-of-type {\n",
       "        vertical-align: middle;\n",
       "    }\n",
       "\n",
       "    .dataframe tbody tr th {\n",
       "        vertical-align: top;\n",
       "    }\n",
       "\n",
       "    .dataframe thead th {\n",
       "        text-align: right;\n",
       "    }\n",
       "</style>\n",
       "<table border=\"1\" class=\"dataframe\">\n",
       "  <thead>\n",
       "    <tr style=\"text-align: right;\">\n",
       "      <th></th>\n",
       "      <th>Score</th>\n",
       "      <th>title</th>\n",
       "      <th>director</th>\n",
       "      <th>cast</th>\n",
       "      <th>country</th>\n",
       "      <th>listed_in</th>\n",
       "      <th>type</th>\n",
       "    </tr>\n",
       "  </thead>\n",
       "  <tbody>\n",
       "    <tr>\n",
       "      <th>7581</th>\n",
       "      <td>0.789810</td>\n",
       "      <td>Next</td>\n",
       "      <td>Lee Tamahori</td>\n",
       "      <td>Nicolas Cage,Julianne Moore,Jessica Biel,Thoma...</td>\n",
       "      <td>United States</td>\n",
       "      <td>Action &amp; Adventure,Sci-Fi &amp; Fantasy</td>\n",
       "      <td>Movie</td>\n",
       "    </tr>\n",
       "    <tr>\n",
       "      <th>143</th>\n",
       "      <td>0.788298</td>\n",
       "      <td>Green Lantern</td>\n",
       "      <td>Martin Campbell</td>\n",
       "      <td>Ryan Reynolds,Blake Lively,Peter Sarsgaard,Mar...</td>\n",
       "      <td>United States</td>\n",
       "      <td>Action &amp; Adventure,Sci-Fi &amp; Fantasy</td>\n",
       "      <td>Movie</td>\n",
       "    </tr>\n",
       "    <tr>\n",
       "      <th>4484</th>\n",
       "      <td>0.783281</td>\n",
       "      <td>Scorpion King 5: Book of Souls</td>\n",
       "      <td>Don Michael Paul</td>\n",
       "      <td>Zach McGowan,Pearl Thusi,Nathan Jones,Peter Me...</td>\n",
       "      <td>United States</td>\n",
       "      <td>Action &amp; Adventure,Sci-Fi &amp; Fantasy</td>\n",
       "      <td>Movie</td>\n",
       "    </tr>\n",
       "    <tr>\n",
       "      <th>8034</th>\n",
       "      <td>0.777524</td>\n",
       "      <td>Skydancers</td>\n",
       "      <td>Fredric Lean</td>\n",
       "      <td></td>\n",
       "      <td>United States,France</td>\n",
       "      <td>Documentaries,Sports Movies</td>\n",
       "      <td>Movie</td>\n",
       "    </tr>\n",
       "    <tr>\n",
       "      <th>5829</th>\n",
       "      <td>0.764599</td>\n",
       "      <td>Popples</td>\n",
       "      <td></td>\n",
       "      <td>Erin Fitzgerald,Wendee Lee,Cassandra Morris,Ci...</td>\n",
       "      <td>United States,France</td>\n",
       "      <td>Kids' TV</td>\n",
       "      <td>TV Show</td>\n",
       "    </tr>\n",
       "    <tr>\n",
       "      <th>1048</th>\n",
       "      <td>0.764599</td>\n",
       "      <td>Power Players</td>\n",
       "      <td></td>\n",
       "      <td>Kieran Walton,Carlos Salazar,Greg Chun,Jamieso...</td>\n",
       "      <td>United States,France</td>\n",
       "      <td>Kids' TV</td>\n",
       "      <td>TV Show</td>\n",
       "    </tr>\n",
       "    <tr>\n",
       "      <th>356</th>\n",
       "      <td>0.748713</td>\n",
       "      <td>The Losers</td>\n",
       "      <td>Sylvain White</td>\n",
       "      <td>Jeffrey Dean Morgan,Zoe Saldana,Chris Evans,Id...</td>\n",
       "      <td>United States,France</td>\n",
       "      <td>Action &amp; Adventure</td>\n",
       "      <td>Movie</td>\n",
       "    </tr>\n",
       "    <tr>\n",
       "      <th>1387</th>\n",
       "      <td>0.747477</td>\n",
       "      <td>The Next Three Days</td>\n",
       "      <td>Paul Haggis</td>\n",
       "      <td>Russell Crowe,Elizabeth Banks,Brian Dennehy,Le...</td>\n",
       "      <td>United States,France</td>\n",
       "      <td>Dramas,Thrillers</td>\n",
       "      <td>Movie</td>\n",
       "    </tr>\n",
       "    <tr>\n",
       "      <th>5981</th>\n",
       "      <td>0.669284</td>\n",
       "      <td>10,000 B.C.</td>\n",
       "      <td>Roland Emmerich</td>\n",
       "      <td>Steven Strait,Camilla Belle,Cliff Curtis,Joel ...</td>\n",
       "      <td>United States,South Africa</td>\n",
       "      <td>Action &amp; Adventure</td>\n",
       "      <td>Movie</td>\n",
       "    </tr>\n",
       "    <tr>\n",
       "      <th>1113</th>\n",
       "      <td>0.478474</td>\n",
       "      <td>2012</td>\n",
       "      <td>Roland Emmerich</td>\n",
       "      <td>John Cusack,Amanda Peet,Chiwetel Ejiofor,Thand...</td>\n",
       "      <td>United States</td>\n",
       "      <td>Action &amp; Adventure,Sci-Fi &amp; Fantasy</td>\n",
       "      <td>Movie</td>\n",
       "    </tr>\n",
       "  </tbody>\n",
       "</table>\n",
       "</div>"
      ],
      "text/plain": [
       "         Score                           title          director  \\\n",
       "7581  0.789810                            Next      Lee Tamahori   \n",
       "143   0.788298                   Green Lantern   Martin Campbell   \n",
       "4484  0.783281  Scorpion King 5: Book of Souls  Don Michael Paul   \n",
       "8034  0.777524                      Skydancers      Fredric Lean   \n",
       "5829  0.764599                         Popples                     \n",
       "1048  0.764599                   Power Players                     \n",
       "356   0.748713                      The Losers     Sylvain White   \n",
       "1387  0.747477             The Next Three Days       Paul Haggis   \n",
       "5981  0.669284                     10,000 B.C.   Roland Emmerich   \n",
       "1113  0.478474                            2012   Roland Emmerich   \n",
       "\n",
       "                                                   cast  \\\n",
       "7581  Nicolas Cage,Julianne Moore,Jessica Biel,Thoma...   \n",
       "143   Ryan Reynolds,Blake Lively,Peter Sarsgaard,Mar...   \n",
       "4484  Zach McGowan,Pearl Thusi,Nathan Jones,Peter Me...   \n",
       "8034                                                      \n",
       "5829  Erin Fitzgerald,Wendee Lee,Cassandra Morris,Ci...   \n",
       "1048  Kieran Walton,Carlos Salazar,Greg Chun,Jamieso...   \n",
       "356   Jeffrey Dean Morgan,Zoe Saldana,Chris Evans,Id...   \n",
       "1387  Russell Crowe,Elizabeth Banks,Brian Dennehy,Le...   \n",
       "5981  Steven Strait,Camilla Belle,Cliff Curtis,Joel ...   \n",
       "1113  John Cusack,Amanda Peet,Chiwetel Ejiofor,Thand...   \n",
       "\n",
       "                         country                            listed_in     type  \n",
       "7581               United States  Action & Adventure,Sci-Fi & Fantasy    Movie  \n",
       "143                United States  Action & Adventure,Sci-Fi & Fantasy    Movie  \n",
       "4484               United States  Action & Adventure,Sci-Fi & Fantasy    Movie  \n",
       "8034        United States,France          Documentaries,Sports Movies    Movie  \n",
       "5829        United States,France                             Kids' TV  TV Show  \n",
       "1048        United States,France                             Kids' TV  TV Show  \n",
       "356         United States,France                   Action & Adventure    Movie  \n",
       "1387        United States,France                     Dramas,Thrillers    Movie  \n",
       "5981  United States,South Africa                   Action & Adventure    Movie  \n",
       "1113               United States  Action & Adventure,Sci-Fi & Fantasy    Movie  "
      ]
     },
     "execution_count": 101,
     "metadata": {},
     "output_type": "execute_result"
    }
   ],
   "source": [
    "title = \"Stargate\"\n",
    "recommend_show(data_reduced, data, title, knn)\n"
   ]
  },
  {
   "cell_type": "markdown",
   "metadata": {},
   "source": [
    "### Conclusion\n",
    "- Works fine for Action/Thriller Films\n",
    "- Also Comedy?\n",
    "- TV Shows/Anime seems a bit random (?)\n",
    "- probably because the style of a Hollywood Blockbuster is more defined by Director/Cast than TV SHows or Anime\n",
    "- Problem: Missing Data (Directors for TV Shows)"
   ]
  },
  {
   "cell_type": "code",
   "execution_count": 102,
   "metadata": {},
   "outputs": [],
   "source": [
    "# spr = SparseRandomProjection(\n",
    "#     n_components=50\n",
    "# )\n",
    "\n",
    "# data_reduced = spr.fit_transform(data_reduced)\n",
    "\n",
    "# mapper = UMAP(\n",
    "#     n_neighbors=100,\n",
    "#     metric=\"correlation\",\n",
    "#     densmap=True\n",
    "# )\n",
    "\n",
    "# embedding = mapper.fit_transform(data_reduced)\n"
   ]
  },
  {
   "cell_type": "code",
   "execution_count": 103,
   "metadata": {},
   "outputs": [],
   "source": [
    "# %matplotlib widget\n",
    "# plt.figure(figsize=(6,6))\n",
    "# sns.scatterplot(\n",
    "#     x=embedding[:,0],\n",
    "#     y=embedding[:,1],\n",
    "#     s=3,\n",
    "#     # hue=movies.rating\n",
    "\n",
    "# )\n"
   ]
  },
  {
   "cell_type": "code",
   "execution_count": 104,
   "metadata": {},
   "outputs": [],
   "source": [
    "# import plotly.express as px\n",
    "\n",
    "# px.scatter(\n",
    "#     x=embedding[:,0],\n",
    "#     y=embedding[:,1],\n",
    "#     hover_name=netflix_total.title,\n",
    "#     # size=[0.01]*len(embedding)\n",
    "# )\n"
   ]
  }
 ],
 "metadata": {
  "interpreter": {
   "hash": "fbff9bfab3ee0df4124016b4e010029cf2ec5864ce5e3c4aa09796cc364af95f"
  },
  "kernelspec": {
   "display_name": "Python 3.9.7 64-bit ('base': conda)",
   "language": "python",
   "name": "python3"
  },
  "language_info": {
   "codemirror_mode": {
    "name": "ipython",
    "version": 3
   },
   "file_extension": ".py",
   "mimetype": "text/x-python",
   "name": "python",
   "nbconvert_exporter": "python",
   "pygments_lexer": "ipython3",
   "version": "3.9.9"
  },
  "orig_nbformat": 4
 },
 "nbformat": 4,
 "nbformat_minor": 2
}
