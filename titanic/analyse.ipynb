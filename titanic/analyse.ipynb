{
 "cells": [
  {
   "cell_type": "markdown",
   "metadata": {},
   "source": [
    "## Imports\n"
   ]
  },
  {
   "cell_type": "code",
   "execution_count": 1,
   "metadata": {},
   "outputs": [],
   "source": [
    "import matplotlib.pyplot as plt\n",
    "import numpy as np\n",
    "import pandas as pd\n",
    "import seaborn as sns\n",
    "from sklearn.compose import ColumnTransformer, make_column_selector\n",
    "from sklearn.ensemble import RandomForestClassifier, StackingClassifier\n",
    "from sklearn.gaussian_process import GaussianProcessClassifier\n",
    "from sklearn.impute import SimpleImputer\n",
    "from sklearn.model_selection import train_test_split\n",
    "from sklearn.naive_bayes import GaussianNB\n",
    "from sklearn.neighbors import KNeighborsClassifier\n",
    "from sklearn.pipeline import make_pipeline\n",
    "from sklearn.preprocessing import OneHotEncoder, OrdinalEncoder, RobustScaler\n",
    "from sklearn.svm import LinearSVC\n",
    "from umap import UMAP\n",
    "\n",
    "sns.set_theme(context=\"paper\", style=\"ticks\")\n",
    "random_state = 42"
   ]
  },
  {
   "cell_type": "markdown",
   "metadata": {},
   "source": [
    "Load data\n"
   ]
  },
  {
   "cell_type": "code",
   "execution_count": 2,
   "metadata": {},
   "outputs": [],
   "source": [
    "train = pd.read_csv(\"data\\\\train.csv\")\n",
    "test = pd.read_csv(\"data\\\\test.csv\")\n",
    "\n",
    "test_ID = test.PassengerId"
   ]
  },
  {
   "cell_type": "markdown",
   "metadata": {},
   "source": [
    "Preprocessing\n"
   ]
  },
  {
   "cell_type": "code",
   "execution_count": 3,
   "metadata": {},
   "outputs": [],
   "source": [
    "oh_enc = OneHotEncoder(sparse=False)\n",
    "ordinal_enc = OrdinalEncoder(\n",
    "    categories=[[\"A\", \"B\", \"C\", \"D\", \"E\", \"F\", \"G\", \"T\", np.nan]],\n",
    ")\n",
    "\n",
    "# Ticket, Cabin, Name, PassengerID: Non informative\n",
    "# Sex, Embarked, Deck: Will be encoded\n",
    "drop_cols = [\"Ticket\", \"Cabin\", \"Name\", \"PassengerId\", \"Sex\", \"Embarked\", \"Deck\"]\n",
    "train[\"Deck\"] = pd.DataFrame(train.Cabin.str.extract(\"([A-Z])\", expand=False))\n",
    "test[\"Deck\"] = pd.DataFrame(test.Cabin.str.extract(\"([A-Z])\", expand=False))"
   ]
  },
  {
   "cell_type": "code",
   "execution_count": 4,
   "metadata": {},
   "outputs": [],
   "source": [
    "train_y = train.Survived\n",
    "train_X = train.drop(\"Survived\", axis=1)"
   ]
  },
  {
   "cell_type": "code",
   "execution_count": 5,
   "metadata": {},
   "outputs": [],
   "source": [
    "estimators = [\n",
    "    (\"knnc\", KNeighborsClassifier(weights=\"distance\", n_neighbors=100, n_jobs=-1)),\n",
    "    (\"gpc\", GaussianProcessClassifier(random_state=random_state, warm_start=True)),\n",
    "    (\n",
    "        \"rfc\",\n",
    "        RandomForestClassifier(\n",
    "            random_state=random_state, class_weight=\"balanced_subsample\", n_jobs=-1\n",
    "        ),\n",
    "    ),\n",
    "    (\"SVC\", LinearSVC(max_iter=100000, random_state=random_state)),\n",
    "    (\"gnb\", GaussianNB()),\n",
    "]"
   ]
  },
  {
   "cell_type": "code",
   "execution_count": 37,
   "metadata": {},
   "outputs": [],
   "source": [
    "encoder = ColumnTransformer(\n",
    "    [\n",
    "        (\"oh\", oh_enc, make_column_selector(\"Sex|Embarked\")),\n",
    "        (\"ord\", ordinal_enc, make_column_selector(\"Deck\")),\n",
    "        (\"selector\", \"drop\", drop_cols),\n",
    "    ],\n",
    "    remainder=\"passthrough\",\n",
    "    verbose_feature_names_out=True,\n",
    ")\n",
    "\n",
    "imputer = SimpleImputer(add_indicator=True, strategy=\"constant\", fill_value=0)\n",
    "\n",
    "scaler = RobustScaler(unit_variance=True)\n",
    "\n",
    "reducer = UMAP(\n",
    "    n_components=5,\n",
    "    n_neighbors=30,\n",
    "    target_weight=0.5,\n",
    "    metric=\"correlation\",\n",
    "    # random_state=random_state\n",
    ")\n",
    "\n",
    "class_comp = StackingClassifier(\n",
    "    estimators=estimators,\n",
    "    n_jobs=-1,\n",
    "    verbose=0,\n",
    ")"
   ]
  },
  {
   "cell_type": "code",
   "execution_count": 38,
   "metadata": {},
   "outputs": [],
   "source": [
    "pipeline = make_pipeline(encoder, imputer, scaler, reducer, class_comp)"
   ]
  },
  {
   "cell_type": "code",
   "execution_count": 39,
   "metadata": {},
   "outputs": [],
   "source": [
    "pipeline.fit(X=train_X, y=train_y)\n",
    "\n",
    "pred_y = pipeline.predict(test)"
   ]
  },
  {
   "cell_type": "code",
   "execution_count": 40,
   "metadata": {},
   "outputs": [],
   "source": [
    "proba = pipeline.predict_proba(test)\n",
    "entropy = -np.sum(np.log2(proba) * proba, axis=1)"
   ]
  },
  {
   "cell_type": "markdown",
   "metadata": {},
   "source": [
    "Plot training data\n"
   ]
  },
  {
   "cell_type": "code",
   "execution_count": 41,
   "metadata": {},
   "outputs": [
    {
     "data": {
      "text/plain": [
       "<AxesSubplot:>"
      ]
     },
     "execution_count": 41,
     "metadata": {},
     "output_type": "execute_result"
    },
    {
     "data": {
      "image/png": "[encoded data removed]",
      "text/plain": [
       "<Figure size 504x504 with 1 Axes>"
      ]
     },
     "metadata": {},
     "output_type": "display_data"
    }
   ],
   "source": [
    "plt.figure(figsize=(7, 7))\n",
    "sns.scatterplot(\n",
    "    x=pipeline[\"umap\"].embedding_[:, 0],\n",
    "    y=pipeline[\"umap\"].embedding_[:, 1],\n",
    "    hue=train_y.to_numpy().flatten(),\n",
    "    # alpha=proba,\n",
    "    palette=\"Set1\",\n",
    "    s=10,\n",
    ")"
   ]
  },
  {
   "cell_type": "markdown",
   "metadata": {},
   "source": [
    "Plot test data\n"
   ]
  },
  {
   "cell_type": "code",
   "execution_count": 47,
   "metadata": {},
   "outputs": [
    {
     "name": "stderr",
     "output_type": "stream",
     "text": [
      "C:\\tools\\miniconda3\\lib\\site-packages\\seaborn\\relational.py:654: FutureWarning: elementwise comparison failed; returning scalar instead, but in the future will perform elementwise comparison\n",
      "  kws[\"alpha\"] = 1 if self.alpha == \"auto\" else self.alpha\n"
     ]
    },
    {
     "data": {
      "text/plain": [
       "<AxesSubplot:>"
      ]
     },
     "execution_count": 47,
     "metadata": {},
     "output_type": "execute_result"
    },
    {
     "data": {
      "image/png": "[encoded data removed]",
      "text/plain": [
       "<Figure size 504x504 with 1 Axes>"
      ]
     },
     "metadata": {},
     "output_type": "display_data"
    }
   ],
   "source": [
    "plt.figure(figsize=(7, 7))\n",
    "sns.scatterplot(\n",
    "    x=pipeline[:4].transform(X=test)[:, 0],\n",
    "    y=pipeline[:4].transform(X=test)[:, 1],\n",
    "    style=pred_y,\n",
    "    palette=\"Set1\",\n",
    "    hue=pred_y,\n",
    "    # hue=entropy,\n",
    "    alpha=entropy,\n",
    "    sizes=(3, 20),\n",
    "    # s=10\n",
    ")"
   ]
  },
  {
   "cell_type": "code",
   "execution_count": 50,
   "metadata": {},
   "outputs": [
    {
     "data": {
      "text/plain": [
       "<AxesSubplot:ylabel='Percent'>"
      ]
     },
     "execution_count": 50,
     "metadata": {},
     "output_type": "execute_result"
    },
    {
     "data": {
      "image/png": "[encoded data removed]",
      "text/plain": [
       "<Figure size 432x288 with 1 Axes>"
      ]
     },
     "metadata": {},
     "output_type": "display_data"
    }
   ],
   "source": [
    "sns.histplot(\n",
    "    1 - entropy,\n",
    "    # cumulative=True,\n",
    "    kde=True,\n",
    "    kde_kws={\"cut\": 0},\n",
    "    stat=\"percent\",\n",
    ")"
   ]
  },
  {
   "cell_type": "markdown",
   "metadata": {},
   "source": [
    "Save predictions as csv\n"
   ]
  },
  {
   "cell_type": "code",
   "execution_count": 44,
   "metadata": {},
   "outputs": [],
   "source": [
    "submission = pd.DataFrame(\n",
    "    columns=[\"PassengerId\", \"Survived\"], data=zip(test_ID, pred_y)\n",
    ")\n",
    "submission.to_csv(\"submission.csv\", index=False)"
   ]
  },
  {
   "cell_type": "code",
   "execution_count": 45,
   "metadata": {},
   "outputs": [],
   "source": [
    "data = pd.read_csv(\"data\\\\train.csv\")\n",
    "X_data = data.drop(\"Survived\", axis=1)\n",
    "y_data = data.Survived\n",
    "\n",
    "X_train, X_test, y_train, y_test = train_test_split(\n",
    "    X_data, y_data, random_state=random_state\n",
    ")"
   ]
  }
 ],
 "metadata": {
  "interpreter": {
   "hash": "fbff9bfab3ee0df4124016b4e010029cf2ec5864ce5e3c4aa09796cc364af95f"
  },
  "kernelspec": {
   "display_name": "Python 3.9.7 64-bit ('base': conda)",
   "language": "python",
   "name": "python3"
  },
  "language_info": {
   "codemirror_mode": {
    "name": "ipython",
    "version": 3
   },
   "file_extension": ".py",
   "mimetype": "text/x-python",
   "name": "python",
   "nbconvert_exporter": "python",
   "pygments_lexer": "ipython3",
   "version": "3.9.9"
  },
  "orig_nbformat": 4
 },
 "nbformat": 4,
 "nbformat_minor": 2
}
