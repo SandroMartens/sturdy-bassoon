{
 "cells": [
  {
   "cell_type": "markdown",
   "metadata": {},
   "source": [
    "## Imports"
   ]
  },
  {
   "cell_type": "code",
   "execution_count": 258,
   "metadata": {},
   "outputs": [],
   "source": [
    "from sklearn.preprocessing  import RobustScaler\n",
    "from sklearn.preprocessing  import OrdinalEncoder\n",
    "from sklearn.preprocessing  import OneHotEncoder\n",
    "from sklearn.naive_bayes import GaussianNB\n",
    "from sklearn.ensemble import StackingClassifier\n",
    "from sklearn.neighbors import KNeighborsClassifier\n",
    "from sklearn.gaussian_process import GaussianProcessClassifier\n",
    "from sklearn.ensemble import RandomForestClassifier\n",
    "from sklearn.svm import LinearSVC\n",
    "from sklearn.linear_model import LogisticRegressionCV\n",
    "from sklearn.model_selection import train_test_split\n",
    "from sklearn.pipeline import make_pipeline\n",
    "\n",
    "import pandas as pd\n",
    "import seaborn as sns\n",
    "from umap import UMAP\n",
    "import numpy as np\n",
    "import matplotlib.pyplot as plt\n",
    "\n",
    "sns.set_theme(context=\"paper\", style=\"ticks\")\n",
    "random_state = 42"
   ]
  },
  {
   "cell_type": "markdown",
   "metadata": {},
   "source": [
    "Load data"
   ]
  },
  {
   "cell_type": "code",
   "execution_count": 126,
   "metadata": {},
   "outputs": [],
   "source": [
    "train = pd.read_csv(\"data\\\\train.csv\")\n",
    "test = pd.read_csv(\"data\\\\test.csv\")\n",
    "\n",
    "test_ID = test.PassengerId"
   ]
  },
  {
   "cell_type": "markdown",
   "metadata": {},
   "source": [
    "Proprocessing"
   ]
  },
  {
   "cell_type": "code",
   "execution_count": 127,
   "metadata": {},
   "outputs": [],
   "source": [
    "def preprocess(df, fit, oh_enc, ordinal_enc):\n",
    "    df[\"Deck\"] = pd.DataFrame(df.Cabin.str.extract(\"([A-Z])\", expand=False))\n",
    "    categorical_cols = [\"Sex\", \"Embarked\"]\n",
    "    drop_cols = [\"Ticket\", \"Cabin\", \"Name\", \"PassengerId\", \"Sex\", \"Embarked\", \"Deck\"]\n",
    "\n",
    "    if fit:\n",
    "        df = pd.concat([df, pd.DataFrame(oh_enc.fit_transform(df[categorical_cols].astype(\"str\")))], axis=1)\n",
    "        df = pd.concat([df, pd.DataFrame(ordinal_enc.fit_transform(np.array(df.Deck).reshape(-1,1)))], axis=1)\n",
    "\n",
    "    else:\n",
    "        df = pd.concat([df, pd.DataFrame(oh_enc.transform(df[categorical_cols].astype(\"str\")))], axis=1)\n",
    "        df = pd.concat([df, pd.DataFrame(ordinal_enc.transform(np.array(df.Deck).reshape(-1,1)))], axis=1)\n",
    "\n",
    "    df.drop(labels=drop_cols, axis=1, inplace=True)\n",
    "    df.fillna(-1, inplace=True)\n",
    "    return (df)"
   ]
  },
  {
   "cell_type": "code",
   "execution_count": 128,
   "metadata": {},
   "outputs": [],
   "source": [
    "oh_enc = OneHotEncoder(sparse=False)\n",
    "ordinal_enc = OrdinalEncoder(categories=[[\"A\", \"B\", \"C\", \"D\", \"E\", \"F\", \"G\", \"T\", np.nan]])\n",
    "\n",
    "train = preprocess(train, fit=True, oh_enc=oh_enc, ordinal_enc=ordinal_enc)\n",
    "test = preprocess(test, fit=False, oh_enc=oh_enc, ordinal_enc=ordinal_enc)"
   ]
  },
  {
   "cell_type": "code",
   "execution_count": 129,
   "metadata": {},
   "outputs": [],
   "source": [
    "train_y = train.Survived\n",
    "train_X = train.drop(\"Survived\", axis=1)"
   ]
  },
  {
   "cell_type": "code",
   "execution_count": 149,
   "metadata": {},
   "outputs": [],
   "source": [
    "estimators = [\n",
    "    (\"knnc\", KNeighborsClassifier(\n",
    "        weights=\"distance\",\n",
    "        n_neighbors=100,\n",
    "        n_jobs=-1\n",
    "    )),\n",
    "    (\"gpc\", GaussianProcessClassifier(\n",
    "        random_state=random_state,\n",
    "        warm_start=True\n",
    "    )),\n",
    "    (\"rfc\", RandomForestClassifier(\n",
    "        random_state=random_state,\n",
    "        class_weight=\"balanced_subsample\",\n",
    "        n_jobs=-1\n",
    "    )),\n",
    "    (\"SVC\", LinearSVC(\n",
    "        max_iter=100000,\n",
    "        random_state=random_state\n",
    "    )),\n",
    "    (\"gnb\", GaussianNB())\n",
    "]"
   ]
  },
  {
   "cell_type": "code",
   "execution_count": 246,
   "metadata": {},
   "outputs": [],
   "source": [
    "scaler = RobustScaler(\n",
    "    unit_variance=True\n",
    ")\n",
    "\n",
    "reducer = UMAP(\n",
    "    n_components=2,\n",
    "    n_neighbors=30,\n",
    "    min_dist=0.1,\n",
    "    target_weight=0.5,\n",
    "    metric=\"correlation\",\n",
    "    random_state=random_state\n",
    ")\n",
    "\n",
    "class_comp = StackingClassifier(\n",
    "    estimators=estimators,\n",
    "    # final_estimator=final_estimator,\n",
    "    n_jobs=-1,\n",
    "    verbose=0,\n",
    ")"
   ]
  },
  {
   "cell_type": "code",
   "execution_count": 247,
   "metadata": {},
   "outputs": [],
   "source": [
    "pipeline = make_pipeline(\n",
    "    scaler,\n",
    "    reducer,\n",
    "    class_comp\n",
    ")"
   ]
  },
  {
   "cell_type": "code",
   "execution_count": 248,
   "metadata": {},
   "outputs": [
    {
     "name": "stderr",
     "output_type": "stream",
     "text": [
      "C:\\tools\\miniconda3\\lib\\site-packages\\sklearn\\utils\\validation.py:1675: FutureWarning: Feature names only support names that are all strings. Got feature names with dtypes: ['int', 'str']. An error will be raised in 1.2.\n",
      "  warnings.warn(\n",
      "C:\\tools\\miniconda3\\lib\\site-packages\\sklearn\\utils\\validation.py:1675: FutureWarning: Feature names only support names that are all strings. Got feature names with dtypes: ['int', 'str']. An error will be raised in 1.2.\n",
      "  warnings.warn(\n",
      "C:\\tools\\miniconda3\\lib\\site-packages\\sklearn\\utils\\validation.py:1675: FutureWarning: Feature names only support names that are all strings. Got feature names with dtypes: ['int', 'str']. An error will be raised in 1.2.\n",
      "  warnings.warn(\n"
     ]
    }
   ],
   "source": [
    "pipeline.fit(\n",
    "    X=train_X,\n",
    "    y=train_y\n",
    ")\n",
    "\n",
    "pred_y = pipeline.predict(test)"
   ]
  },
  {
   "cell_type": "code",
   "execution_count": 249,
   "metadata": {},
   "outputs": [
    {
     "name": "stderr",
     "output_type": "stream",
     "text": [
      "C:\\tools\\miniconda3\\lib\\site-packages\\sklearn\\utils\\validation.py:1675: FutureWarning: Feature names only support names that are all strings. Got feature names with dtypes: ['int', 'str']. An error will be raised in 1.2.\n",
      "  warnings.warn(\n"
     ]
    }
   ],
   "source": [
    "proba = 1 - 2 * np.sqrt(\n",
    "    np.product(\n",
    "        pipeline.predict_proba(test), axis=1))\n"
   ]
  },
  {
   "cell_type": "markdown",
   "metadata": {},
   "source": [
    "Plot training data"
   ]
  },
  {
   "cell_type": "code",
   "execution_count": 251,
   "metadata": {},
   "outputs": [
    {
     "data": {
      "text/plain": [
       "<AxesSubplot:>"
      ]
     },
     "execution_count": 251,
     "metadata": {},
     "output_type": "execute_result"
    },
    {
     "data": {
      "image/png": "[encoded data removed]",
      "text/plain": [
       "<Figure size 432x288 with 1 Axes>"
      ]
     },
     "metadata": {},
     "output_type": "display_data"
    }
   ],
   "source": [
    "sns.scatterplot(\n",
    "    x=pipeline[\"umap\"].embedding_[:,0],\n",
    "    y=pipeline[\"umap\"].embedding_[:,1],\n",
    "    hue=train_y,\n",
    "    # alpha=proba,\n",
    "    palette=\"Set1\",\n",
    "    s=10\n",
    ")"
   ]
  },
  {
   "cell_type": "markdown",
   "metadata": {},
   "source": [
    "Plot test data"
   ]
  },
  {
   "cell_type": "code",
   "execution_count": 262,
   "metadata": {},
   "outputs": [
    {
     "name": "stderr",
     "output_type": "stream",
     "text": [
      "C:\\tools\\miniconda3\\lib\\site-packages\\sklearn\\utils\\validation.py:1675: FutureWarning: Feature names only support names that are all strings. Got feature names with dtypes: ['int', 'str']. An error will be raised in 1.2.\n",
      "  warnings.warn(\n",
      "C:\\tools\\miniconda3\\lib\\site-packages\\sklearn\\utils\\validation.py:1675: FutureWarning: Feature names only support names that are all strings. Got feature names with dtypes: ['int', 'str']. An error will be raised in 1.2.\n",
      "  warnings.warn(\n",
      "C:\\tools\\miniconda3\\lib\\site-packages\\seaborn\\relational.py:654: FutureWarning: elementwise comparison failed; returning scalar instead, but in the future will perform elementwise comparison\n",
      "  kws[\"alpha\"] = 1 if self.alpha == \"auto\" else self.alpha\n"
     ]
    },
    {
     "data": {
      "text/plain": [
       "<AxesSubplot:>"
      ]
     },
     "execution_count": 262,
     "metadata": {},
     "output_type": "execute_result"
    },
    {
     "data": {
      "image/png": "[encoded data removed]",
      "text/plain": [
       "<Figure size 432x432 with 1 Axes>"
      ]
     },
     "metadata": {},
     "output_type": "display_data"
    }
   ],
   "source": [
    "plt.figure(figsize=(6,6))\n",
    "sns.scatterplot(\n",
    "    x=pipeline[:2].transform(X=test)[:,0],\n",
    "    y=pipeline[:2].transform(X=test)[:,1],\n",
    "    hue=pred_y,\n",
    "    palette=\"Set1\",\n",
    "    size=proba,\n",
    "    alpha=proba,\n",
    "    sizes=(5, 15),\n",
    "    s=10\n",
    ")"
   ]
  },
  {
   "cell_type": "code",
   "execution_count": 263,
   "metadata": {},
   "outputs": [
    {
     "data": {
      "text/plain": [
       "<AxesSubplot:ylabel='Count'>"
      ]
     },
     "execution_count": 263,
     "metadata": {},
     "output_type": "execute_result"
    },
    {
     "data": {
      "image/png": "[encoded data removed]",
      "text/plain": [
       "<Figure size 432x288 with 1 Axes>"
      ]
     },
     "metadata": {},
     "output_type": "display_data"
    }
   ],
   "source": [
    "sns.histplot(proba)"
   ]
  },
  {
   "cell_type": "markdown",
   "metadata": {},
   "source": [
    "Save predictions as csv"
   ]
  },
  {
   "cell_type": "code",
   "execution_count": 254,
   "metadata": {},
   "outputs": [],
   "source": [
    "submission = pd.DataFrame(columns=[\"PassengerId\", \"Survived\"], data=zip(test_ID, pred_y))\n",
    "submission.to_csv(\"submission.csv\", index=False)"
   ]
  },
  {
   "cell_type": "code",
   "execution_count": 255,
   "metadata": {},
   "outputs": [],
   "source": [
    "data = pd.read_csv(\"data\\\\train.csv\")\n",
    "X_data = data.drop(\"Survived\", axis=1)\n",
    "y_data = data.Survived\n",
    "\n",
    "X_train, X_test, y_train, y_test = train_test_split(\n",
    "    X_data, \n",
    "    y_data,\n",
    "    random_state=random_state)"
   ]
  },
  {
   "cell_type": "code",
   "execution_count": 256,
   "metadata": {},
   "outputs": [
    {
     "ename": "TypeError",
     "evalue": "preprocess() missing 2 required positional arguments: 'oh_enc' and 'ordinal_enc'",
     "output_type": "error",
     "traceback": [
      "\u001b[1;31m---------------------------------------------------------------------------\u001b[0m",
      "\u001b[1;31mTypeError\u001b[0m                                 Traceback (most recent call last)",
      "\u001b[1;32m~\\AppData\\Local\\Temp/ipykernel_19180/3114912476.py\u001b[0m in \u001b[0;36m<module>\u001b[1;34m\u001b[0m\n\u001b[1;32m----> 1\u001b[1;33m \u001b[0mX_train\u001b[0m \u001b[1;33m=\u001b[0m \u001b[0mpreprocess\u001b[0m\u001b[1;33m(\u001b[0m\u001b[0mX_train\u001b[0m\u001b[1;33m,\u001b[0m \u001b[0mfit\u001b[0m\u001b[1;33m=\u001b[0m\u001b[1;32mTrue\u001b[0m\u001b[1;33m)\u001b[0m\u001b[1;33m\u001b[0m\u001b[1;33m\u001b[0m\u001b[0m\n\u001b[0m",
      "\u001b[1;31mTypeError\u001b[0m: preprocess() missing 2 required positional arguments: 'oh_enc' and 'ordinal_enc'"
     ]
    }
   ],
   "source": [
    "X_train = preprocess(X_train, fit=True)"
   ]
  }
 ],
 "metadata": {
  "interpreter": {
   "hash": "fbff9bfab3ee0df4124016b4e010029cf2ec5864ce5e3c4aa09796cc364af95f"
  },
  "kernelspec": {
   "display_name": "Python 3.9.7 64-bit ('base': conda)",
   "language": "python",
   "name": "python3"
  },
  "language_info": {
   "codemirror_mode": {
    "name": "ipython",
    "version": 3
   },
   "file_extension": ".py",
   "mimetype": "text/x-python",
   "name": "python",
   "nbconvert_exporter": "python",
   "pygments_lexer": "ipython3",
   "version": "3.9.9"
  },
  "orig_nbformat": 4
 },
 "nbformat": 4,
 "nbformat_minor": 2
}
