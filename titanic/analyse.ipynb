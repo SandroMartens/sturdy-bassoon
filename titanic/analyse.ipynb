{
 "cells": [
  {
   "cell_type": "markdown",
   "metadata": {},
   "source": [
    "### Imports"
   ]
  },
  {
   "cell_type": "code",
   "execution_count": 2,
   "metadata": {},
   "outputs": [],
   "source": [
    "import pandas as pd\n",
    "from sklearn.preprocessing  import robust_scale\n",
    "from sklearn.preprocessing  import OrdinalEncoder\n",
    "from sklearn.preprocessing  import OneHotEncoder\n",
    "from sklearn.decomposition  import PCA\n",
    "from sklearn.discriminant_analysis import LinearDiscriminantAnalysis\n",
    "import seaborn as sns\n",
    "from umap import UMAP\n",
    "from hdbscan import HDBSCAN\n",
    "import hdbscan\n",
    "import numpy as np\n",
    "from sklearn.naive_bayes import GaussianNB\n",
    "\n",
    "sns.set_theme(context=\"paper\", style=\"ticks\")"
   ]
  },
  {
   "cell_type": "markdown",
   "metadata": {},
   "source": [
    "Dateien einlesen"
   ]
  },
  {
   "cell_type": "code",
   "execution_count": 3,
   "metadata": {},
   "outputs": [],
   "source": [
    "train = pd.read_csv(\"data\\\\train.csv\")\n",
    "test = pd.read_csv(\"data\\\\test.csv\")\n",
    "\n",
    "test_ID = test.PassengerId"
   ]
  },
  {
   "cell_type": "code",
   "execution_count": 4,
   "metadata": {},
   "outputs": [
    {
     "data": {
      "text/plain": [
       "Index(['PassengerId', 'Survived', 'Pclass', 'Name', 'Sex', 'Age', 'SibSp',\n",
       "       'Parch', 'Ticket', 'Fare', 'Cabin', 'Embarked'],\n",
       "      dtype='object')"
      ]
     },
     "execution_count": 4,
     "metadata": {},
     "output_type": "execute_result"
    }
   ],
   "source": [
    "train.columns"
   ]
  },
  {
   "cell_type": "markdown",
   "metadata": {},
   "source": [
    "Proprocessing"
   ]
  },
  {
   "cell_type": "code",
   "execution_count": 5,
   "metadata": {},
   "outputs": [],
   "source": [
    "def preprocess(df, fit, oh_enc, ordinal_enc):\n",
    "    df[\"Deck\"] = pd.DataFrame(df.Cabin.str.extract(\"([A-Z])\", expand=False))\n",
    "    categorical_cols = [\"Sex\", \"Embarked\"]\n",
    "    drop_cols = [\"Ticket\", \"Cabin\", \"Name\", \"PassengerId\", \"Sex\", \"Embarked\", \"Deck\"]\n",
    "\n",
    "    if fit:\n",
    "        df = pd.concat([df, pd.DataFrame(oh_enc.fit_transform(df[categorical_cols].astype(\"str\")))], axis=1)\n",
    "        df = pd.concat([df, pd.DataFrame(ordinal_enc.fit_transform(np.array(df.Deck).reshape(-1,1)))], axis=1)\n",
    "\n",
    "    else:\n",
    "        df = pd.concat([df, pd.DataFrame(oh_enc.transform(df[categorical_cols].astype(\"str\")))], axis=1)\n",
    "        df = pd.concat([df, pd.DataFrame(ordinal_enc.transform(np.array(df.Deck).reshape(-1,1)))], axis=1)\n",
    "\n",
    "    df.drop(labels=drop_cols, axis=1, inplace=True)\n",
    "    df.fillna(-1, inplace=True)\n",
    "    return (df)"
   ]
  },
  {
   "cell_type": "code",
   "execution_count": 6,
   "metadata": {},
   "outputs": [],
   "source": [
    "oh_enc = OneHotEncoder(sparse=False)\n",
    "ordinal_enc = OrdinalEncoder(categories=[[\"A\", \"B\", \"C\", \"D\", \"E\", \"F\", \"G\", \"T\", np.nan]])\n",
    "\n",
    "train = preprocess(train, fit=True, oh_enc=oh_enc, ordinal_enc=ordinal_enc)\n",
    "test = preprocess(test, fit=False, oh_enc=oh_enc, ordinal_enc=ordinal_enc)"
   ]
  },
  {
   "cell_type": "code",
   "execution_count": 7,
   "metadata": {},
   "outputs": [],
   "source": [
    "train_y = robust_scale(train.Survived)\n",
    "train.drop(\"Survived\", axis=1, inplace=True)\n",
    "train_X = robust_scale(train)\n",
    "test = robust_scale(test)"
   ]
  },
  {
   "cell_type": "code",
   "execution_count": 23,
   "metadata": {},
   "outputs": [],
   "source": [
    "reducer = UMAP(\n",
    "    n_components=4,\n",
    "    n_neighbors=50,\n",
    "    min_dist=0,\n",
    "    # spread=1.1,\n",
    "    # densmap=True,\n",
    "    target_weight=0.3\n",
    ")\n",
    "\n",
    "clusterer = HDBSCAN(\n",
    "    min_cluster_size=150,\n",
    "    prediction_data=True\n",
    ")\n",
    "\n",
    "embedding_train = reducer.fit_transform(\n",
    "    X=train_X,\n",
    "    y=train_y\n",
    ")\n",
    "\n",
    "embedding_test = reducer.transform(\n",
    "    X=test\n",
    ")\n",
    "\n",
    "clusterlabels = clusterer.fit_predict(embedding_train)"
   ]
  },
  {
   "cell_type": "code",
   "execution_count": 24,
   "metadata": {},
   "outputs": [
    {
     "data": {
      "text/plain": [
       "<AxesSubplot:>"
      ]
     },
     "execution_count": 24,
     "metadata": {},
     "output_type": "execute_result"
    },
    {
     "data": {
      "image/png": "[encoded data removed]",
      "text/plain": [
       "<Figure size 432x288 with 1 Axes>"
      ]
     },
     "metadata": {},
     "output_type": "display_data"
    }
   ],
   "source": [
    "sns.scatterplot(\n",
    "    x=embedding_train[:,0],\n",
    "    y=embedding_train[:,1],\n",
    "    hue=train_y,\n",
    "    # style=clusterlabels,\n",
    "    palette=\"Set1\",\n",
    "    s=10\n",
    ")"
   ]
  },
  {
   "cell_type": "code",
   "execution_count": 25,
   "metadata": {},
   "outputs": [
    {
     "data": {
      "text/plain": [
       "<AxesSubplot:>"
      ]
     },
     "execution_count": 25,
     "metadata": {},
     "output_type": "execute_result"
    },
    {
     "data": {
      "image/png": "[encoded data removed]",
      "text/plain": [
       "<Figure size 432x288 with 1 Axes>"
      ]
     },
     "metadata": {},
     "output_type": "display_data"
    }
   ],
   "source": [
    "sns.scatterplot(\n",
    "    x=embedding_test[:,0],\n",
    "    y=embedding_test[:,1],\n",
    "    hue=pred,\n",
    "    # style=clusterlabels,\n",
    "    palette=\"Set1\",\n",
    "    s=10\n",
    "    )"
   ]
  },
  {
   "cell_type": "code",
   "execution_count": 26,
   "metadata": {},
   "outputs": [],
   "source": [
    "lda = LinearDiscriminantAnalysis(\n",
    "    # n_components=1\n",
    ")\n",
    "\n",
    "lda_train = lda.fit_transform(\n",
    "    X=embedding_train,\n",
    "    y=train_y\n",
    ")\n",
    "lda_test = lda.transform(embedding_test)\n",
    "\n",
    "gnb = GaussianNB()\n",
    "pred = gnb.fit(\n",
    "    X=train_X,\n",
    "    y=train_y).predict(test).astype(\"int\")"
   ]
  },
  {
   "cell_type": "code",
   "execution_count": 27,
   "metadata": {},
   "outputs": [
    {
     "data": {
      "text/plain": [
       "array([1.])"
      ]
     },
     "execution_count": 27,
     "metadata": {},
     "output_type": "execute_result"
    }
   ],
   "source": [
    "lda.explained_variance_ratio_"
   ]
  },
  {
   "cell_type": "code",
   "execution_count": 28,
   "metadata": {},
   "outputs": [],
   "source": [
    "submission = pd.DataFrame(columns=[\"PassengerId\", \"Survived\"], data=zip(test_ID, pred))\n",
    "submission.to_csv(\"submission.csv\", index=False)"
   ]
  },
  {
   "cell_type": "code",
   "execution_count": 29,
   "metadata": {},
   "outputs": [
    {
     "name": "stderr",
     "output_type": "stream",
     "text": [
      "C:\\tools\\miniconda3\\lib\\site-packages\\sklearn\\utils\\validation.py:1675: FutureWarning: Feature names only support names that are all strings. Got feature names with dtypes: ['int', 'str']. An error will be raised in 1.2.\n",
      "  warnings.warn(\n"
     ]
    }
   ],
   "source": [
    "pca = PCA(\n",
    "    n_components=4\n",
    ")\n",
    "\n",
    "pca_transform = pca.fit_transform(train)"
   ]
  }
 ],
 "metadata": {
  "interpreter": {
   "hash": "fbff9bfab3ee0df4124016b4e010029cf2ec5864ce5e3c4aa09796cc364af95f"
  },
  "kernelspec": {
   "display_name": "Python 3.9.7 64-bit ('base': conda)",
   "language": "python",
   "name": "python3"
  },
  "language_info": {
   "codemirror_mode": {
    "name": "ipython",
    "version": 3
   },
   "file_extension": ".py",
   "mimetype": "text/x-python",
   "name": "python",
   "nbconvert_exporter": "python",
   "pygments_lexer": "ipython3",
   "version": "3.9.7"
  },
  "orig_nbformat": 4
 },
 "nbformat": 4,
 "nbformat_minor": 2
}
