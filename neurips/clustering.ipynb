{
 "cells": [
  {
   "cell_type": "code",
   "execution_count": 10,
   "metadata": {},
   "outputs": [],
   "source": [
    "import pandas as pd\n",
    "from sklearn.decomposition import LatentDirichletAllocation\n",
    "import numpy as np"
   ]
  },
  {
   "cell_type": "code",
   "execution_count": 11,
   "metadata": {},
   "outputs": [],
   "source": [
    "papers = pd.read_csv(\"data\\\\papers.csv\")"
   ]
  },
  {
   "cell_type": "code",
   "execution_count": 24,
   "metadata": {},
   "outputs": [
    {
     "data": {
      "text/plain": [
       "3319"
      ]
     },
     "execution_count": 24,
     "metadata": {},
     "output_type": "execute_result"
    }
   ],
   "source": [
    "np.sum(pd.isna(papers.abstract))"
   ]
  },
  {
   "cell_type": "code",
   "execution_count": 16,
   "metadata": {},
   "outputs": [
    {
     "data": {
      "text/html": [
       "<div>\n",
       "<style scoped>\n",
       "    .dataframe tbody tr th:only-of-type {\n",
       "        vertical-align: middle;\n",
       "    }\n",
       "\n",
       "    .dataframe tbody tr th {\n",
       "        vertical-align: top;\n",
       "    }\n",
       "\n",
       "    .dataframe thead th {\n",
       "        text-align: right;\n",
       "    }\n",
       "</style>\n",
       "<table border=\"1\" class=\"dataframe\">\n",
       "  <thead>\n",
       "    <tr style=\"text-align: right;\">\n",
       "      <th></th>\n",
       "      <th>source_id</th>\n",
       "      <th>year</th>\n",
       "      <th>title</th>\n",
       "      <th>abstract</th>\n",
       "      <th>full_text</th>\n",
       "    </tr>\n",
       "  </thead>\n",
       "  <tbody>\n",
       "    <tr>\n",
       "      <th>0</th>\n",
       "      <td>27</td>\n",
       "      <td>1987</td>\n",
       "      <td>Bit-Serial Neural Networks</td>\n",
       "      <td>NaN</td>\n",
       "      <td>573 \\n\\nBIT - SERIAL NEURAL  NETWORKS \\n\\nAlan...</td>\n",
       "    </tr>\n",
       "    <tr>\n",
       "      <th>1</th>\n",
       "      <td>63</td>\n",
       "      <td>1987</td>\n",
       "      <td>Connectivity Versus Entropy</td>\n",
       "      <td>NaN</td>\n",
       "      <td>1 \\n\\nCONNECTIVITY VERSUS ENTROPY \\n\\nYaser  S...</td>\n",
       "    </tr>\n",
       "    <tr>\n",
       "      <th>2</th>\n",
       "      <td>60</td>\n",
       "      <td>1987</td>\n",
       "      <td>The Hopfield Model with Multi-Level Neurons</td>\n",
       "      <td>NaN</td>\n",
       "      <td>278 \\n\\nTHE HOPFIELD MODEL WITH MUL TI-LEVEL N...</td>\n",
       "    </tr>\n",
       "    <tr>\n",
       "      <th>3</th>\n",
       "      <td>59</td>\n",
       "      <td>1987</td>\n",
       "      <td>How Neural Nets Work</td>\n",
       "      <td>NaN</td>\n",
       "      <td>442 \\n\\nAlan  Lapedes \\nRobert  Farber \\n\\nThe...</td>\n",
       "    </tr>\n",
       "    <tr>\n",
       "      <th>4</th>\n",
       "      <td>69</td>\n",
       "      <td>1987</td>\n",
       "      <td>Spatial Organization of Neural Networks: A Pro...</td>\n",
       "      <td>NaN</td>\n",
       "      <td>740 \\n\\nSPATIAL  ORGANIZATION  OF  NEURAL  NEn...</td>\n",
       "    </tr>\n",
       "    <tr>\n",
       "      <th>...</th>\n",
       "      <td>...</td>\n",
       "      <td>...</td>\n",
       "      <td>...</td>\n",
       "      <td>...</td>\n",
       "      <td>...</td>\n",
       "    </tr>\n",
       "    <tr>\n",
       "      <th>9675</th>\n",
       "      <td>5452</td>\n",
       "      <td>2019</td>\n",
       "      <td>Discrete Object Generation with Reversible Ind...</td>\n",
       "      <td>The success of generative modeling in continuo...</td>\n",
       "      <td>Discrete Object Generation\\n\\nwith Reversible ...</td>\n",
       "    </tr>\n",
       "    <tr>\n",
       "      <th>9676</th>\n",
       "      <td>4799</td>\n",
       "      <td>2019</td>\n",
       "      <td>Adaptively Aligned Image Captioning via Adapti...</td>\n",
       "      <td>Recent neural models for image captioning usua...</td>\n",
       "      <td>Adaptively Aligned Image Captioning via\\n\\nAda...</td>\n",
       "    </tr>\n",
       "    <tr>\n",
       "      <th>9677</th>\n",
       "      <td>1827</td>\n",
       "      <td>2019</td>\n",
       "      <td>Fully Dynamic Consistent Facility Location</td>\n",
       "      <td>We consider classic clustering problems in ful...</td>\n",
       "      <td>Fully Dynamic Consistent Facility Location\\n\\n...</td>\n",
       "    </tr>\n",
       "    <tr>\n",
       "      <th>9678</th>\n",
       "      <td>8693</td>\n",
       "      <td>2019</td>\n",
       "      <td>Efficient Rematerialization for Deep Networks</td>\n",
       "      <td>When training complex neural networks, memory ...</td>\n",
       "      <td>Efﬁcient Rematerialization for Deep Networks\\n...</td>\n",
       "    </tr>\n",
       "    <tr>\n",
       "      <th>9679</th>\n",
       "      <td>2302</td>\n",
       "      <td>2019</td>\n",
       "      <td>Flow-based Image-to-Image Translation with Fea...</td>\n",
       "      <td>Learning non-deterministic dynamics and intrin...</td>\n",
       "      <td>Flow-based Image-to-Image Translation\\n\\nwith ...</td>\n",
       "    </tr>\n",
       "  </tbody>\n",
       "</table>\n",
       "<p>9680 rows × 5 columns</p>\n",
       "</div>"
      ],
      "text/plain": [
       "      source_id  year                                              title  \\\n",
       "0            27  1987                         Bit-Serial Neural Networks   \n",
       "1            63  1987                        Connectivity Versus Entropy   \n",
       "2            60  1987        The Hopfield Model with Multi-Level Neurons   \n",
       "3            59  1987                               How Neural Nets Work   \n",
       "4            69  1987  Spatial Organization of Neural Networks: A Pro...   \n",
       "...         ...   ...                                                ...   \n",
       "9675       5452  2019  Discrete Object Generation with Reversible Ind...   \n",
       "9676       4799  2019  Adaptively Aligned Image Captioning via Adapti...   \n",
       "9677       1827  2019         Fully Dynamic Consistent Facility Location   \n",
       "9678       8693  2019      Efficient Rematerialization for Deep Networks   \n",
       "9679       2302  2019  Flow-based Image-to-Image Translation with Fea...   \n",
       "\n",
       "                                               abstract  \\\n",
       "0                                                   NaN   \n",
       "1                                                   NaN   \n",
       "2                                                   NaN   \n",
       "3                                                   NaN   \n",
       "4                                                   NaN   \n",
       "...                                                 ...   \n",
       "9675  The success of generative modeling in continuo...   \n",
       "9676  Recent neural models for image captioning usua...   \n",
       "9677  We consider classic clustering problems in ful...   \n",
       "9678  When training complex neural networks, memory ...   \n",
       "9679  Learning non-deterministic dynamics and intrin...   \n",
       "\n",
       "                                              full_text  \n",
       "0     573 \\n\\nBIT - SERIAL NEURAL  NETWORKS \\n\\nAlan...  \n",
       "1     1 \\n\\nCONNECTIVITY VERSUS ENTROPY \\n\\nYaser  S...  \n",
       "2     278 \\n\\nTHE HOPFIELD MODEL WITH MUL TI-LEVEL N...  \n",
       "3     442 \\n\\nAlan  Lapedes \\nRobert  Farber \\n\\nThe...  \n",
       "4     740 \\n\\nSPATIAL  ORGANIZATION  OF  NEURAL  NEn...  \n",
       "...                                                 ...  \n",
       "9675  Discrete Object Generation\\n\\nwith Reversible ...  \n",
       "9676  Adaptively Aligned Image Captioning via\\n\\nAda...  \n",
       "9677  Fully Dynamic Consistent Facility Location\\n\\n...  \n",
       "9678  Efﬁcient Rematerialization for Deep Networks\\n...  \n",
       "9679  Flow-based Image-to-Image Translation\\n\\nwith ...  \n",
       "\n",
       "[9680 rows x 5 columns]"
      ]
     },
     "execution_count": 16,
     "metadata": {},
     "output_type": "execute_result"
    }
   ],
   "source": [
    "papers"
   ]
  }
 ],
 "metadata": {
  "interpreter": {
   "hash": "86c55d507e88ff532401e1ba8bb9639d1efba808bbae37a52409c0579412c334"
  },
  "kernelspec": {
   "display_name": "Python 3.8.5 64-bit (conda)",
   "language": "python",
   "name": "python3"
  },
  "language_info": {
   "codemirror_mode": {
    "name": "ipython",
    "version": 3
   },
   "file_extension": ".py",
   "mimetype": "text/x-python",
   "name": "python",
   "nbconvert_exporter": "python",
   "pygments_lexer": "ipython3",
   "version": "3.9.7"
  },
  "orig_nbformat": 4
 },
 "nbformat": 4,
 "nbformat_minor": 2
}
